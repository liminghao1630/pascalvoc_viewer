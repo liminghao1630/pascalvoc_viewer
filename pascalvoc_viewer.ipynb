{
 "cells": [
  {
   "cell_type": "code",
   "execution_count": null,
   "metadata": {
    "scrolled": false
   },
   "outputs": [],
   "source": [
    "import os\n",
    "import matplotlib.pyplot as plt\n",
    "import matplotlib.patches as patches\n",
    "from PIL import Image\n",
    "import numpy as np\n",
    "import xml.etree.ElementTree as ET\n",
    "\n",
    "def parse_xml(ann_path):\n",
    "    root = ET.parse(ann_path).getroot()\n",
    "    _bbox = []\n",
    "    for obj in root.findall('object'):\n",
    "        obj_name = obj.find('name').text\n",
    "        bbox = obj.find('bndbox')\n",
    "        xmin = int(bbox.find('xmin').text)\n",
    "        ymin = int(bbox.find('ymin').text)\n",
    "        xmax = int(bbox.find('xmax').text)\n",
    "        ymax = int(bbox.find('ymax').text)\n",
    "        _bbox.append({'xmin':xmin, 'xmax':xmax, 'ymin':ymin, 'ymax':ymax, 'height':ymax-ymin, 'width':xmax-xmin, 'label':obj_name})\n",
    "    \n",
    "    return _bbox\n",
    "\n",
    "data_dir = r'Your dataset dir full path.'\n",
    "\n",
    "img_dir = os.path.join(data_dir, 'images')\n",
    "ann_dir = os.path.join(data_dir, 'annotations')\n",
    "\n",
    "\n",
    "\n",
    "plt.rcParams[\"figure.figsize\"] = [32,18]\n",
    "for filename in list(os.listdir(img_dir)):\n",
    "    basename = os.path.splitext(filename)[0]\n",
    "    ann_file = basename + '.xml'\n",
    "    img_file = basename + '.jpg'\n",
    "    print(img_file)\n",
    "    \n",
    "    ann_path = os.path.join(ann_dir, ann_file)\n",
    "    img_path = os.path.join(img_dir, img_file)\n",
    "    \n",
    "    bboxes = parse_xml(ann_path)\n",
    "    \n",
    "    im = np.array(Image.open(img_path), dtype=np.uint8)\n",
    "\n",
    "    fig,ax = plt.subplots(1)\n",
    "    ax.imshow(im)\n",
    "\n",
    "    for bbox in bboxes:\n",
    "        rect = patches.Rectangle((bbox['xmin'],bbox['ymin']),bbox['width'],bbox['height'],linewidth=1,edgecolor='r',facecolor='none')\n",
    "        ax.add_patch(rect)\n",
    "        rx, ry = rect.get_xy()\n",
    "        cx = rx + rect.get_width()/2.0\n",
    "        cy = ry + rect.get_height()/2.0\n",
    "        ax.annotate(bbox['label'], (cx, cy), color='g', weight='bold', \n",
    "                fontsize=20, ha='center', va='center')\n",
    "\n",
    "    plt.show()"
   ]
  }
 ],
 "metadata": {
  "kernelspec": {
   "display_name": "Python 3",
   "language": "python",
   "name": "python3"
  },
  "language_info": {
   "codemirror_mode": {
    "name": "ipython",
    "version": 3
   },
   "file_extension": ".py",
   "mimetype": "text/x-python",
   "name": "python",
   "nbconvert_exporter": "python",
   "pygments_lexer": "ipython3",
   "version": "3.7.1"
  }
 },
 "nbformat": 4,
 "nbformat_minor": 2
}
